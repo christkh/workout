{
 "cells": [
  {
   "cell_type": "code",
   "execution_count": 1,
   "id": "80d9db7f",
   "metadata": {},
   "outputs": [],
   "source": [
    "import json\n",
    "import csv\n",
    "import datetime\n",
    "import pandas as pd\n",
    "import arrow\n",
    "from gspread_dataframe import get_as_dataframe, set_with_dataframe\n",
    "import gspread"
   ]
  },
  {
   "cell_type": "code",
   "execution_count": 7,
   "id": "c0d35d2b",
   "metadata": {},
   "outputs": [],
   "source": [
    "with open('message_1.json') as json_file:\n",
    "    data = json.load(json_file)\n",
    "\n",
    "logdata = data[\"messages\"]\n",
    "rem_list = ['type']\n",
    "\n",
    "pics = []\n",
    "for workout in logdata:\n",
    "    if 'photos' in workout.keys():\n",
    "        ts = workout.get('timestamp_ms')\n",
    "        dt = arrow.Arrow.fromtimestamp(ts)\n",
    "        # Asumi's default timezone for Denver\n",
    "        if 'Angela Suguro' in workout.get('sender_name'):\n",
    "            workout['datetime'] = dt.to('US/Central').format('MM-DD-YYYY HH:mm:ss')\n",
    "            workout['w_date'] = dt.to('US/Central').format('MM-DD-YYYY')\n",
    "            workout['timestamp'] = dt.to('US/Central').format('HH:mm:ss')\n",
    "        # Tina's default timezone for NY\n",
    "        elif 'Tina Peng' in workout.get('sender_name'):\n",
    "            workout['datetime'] = dt.to('US/Eastern').format('MM-DD-YYYY HH:mm:ss')\n",
    "            workout['w_date'] = dt.to('US/Eastern').format('MM-DD-YYYY')\n",
    "            workout['timestamp'] = dt.to('US/Eastern').format('HH:mm:ss')\n",
    "        else:\n",
    "            workout['datetime'] = dt.to('US/Pacific').format('MM-DD-YYYY HH:mm:ss')\n",
    "            workout['w_date'] = dt.to('US/Pacific').format('MM-DD-YYYY')\n",
    "            workout['timestamp'] = dt.to('US/Pacific').format('HH:mm:ss')\n",
    "        pics.append(workout)\n",
    "        [workout.pop(key) for key in rem_list]"
   ]
  },
  {
   "cell_type": "code",
   "execution_count": 8,
   "id": "6f015b88",
   "metadata": {},
   "outputs": [
    {
     "name": "stdout",
     "output_type": "stream",
     "text": [
      "[{'sender_name': 'Alan Wong', 'timestamp_ms': 1669832010029, 'photos': [{'uri': 'messages/inbox/holiday2223fitnesschallenge_ti2qhwa1xa/photos/317056344_1522466141570180_5342699473999875700_n_1522466134903514.jpg', 'creation_timestamp': 1669832008}], 'reactions': [{'reaction': 'â\\x9d¤', 'actor': 'Scott Fan'}, {'reaction': 'â\\x9d¤', 'actor': 'Chris Huang'}, {'reaction': 'â\\x9d¤', 'actor': 'Benson Trenh'}, {'reaction': 'â\\x9d¤', 'actor': 'June Kang'}, {'reaction': 'â\\x9d¤', 'actor': 'Shannon Chu'}, {'reaction': 'â\\x9d¤', 'actor': 'Scott Fan'}, {'reaction': 'â\\x9d¤', 'actor': 'Chris Huang'}, {'reaction': 'â\\x9d¤', 'actor': 'Benson Trenh'}, {'reaction': 'â\\x9d¤', 'actor': 'June Kang'}, {'reaction': 'â\\x9d¤', 'actor': 'Shannon Chu'}], 'datetime': '11-30-2022 10:13:30', 'w_date': '11-30-2022', 'timestamp': '10:13:30'}, {'sender_name': 'June Kang', 'timestamp_ms': 1669813052578, 'photos': [{'uri': 'messages/inbox/holiday2223fitnesschallenge_ti2qhwa1xa/photos/317485790_524010092984329_86791519874502910_n_524010089650996.jpg', 'creation_timestamp': 1669813048}], 'reactions': [{'reaction': 'â\\x9d¤', 'actor': 'Alan Wong'}, {'reaction': 'â\\x9d¤', 'actor': 'Ryan Chun'}, {'reaction': 'â\\x9d¤', 'actor': 'Shannon Chu'}, {'reaction': 'â\\x9d¤', 'actor': 'Angela Suguro'}, {'reaction': 'â\\x9d¤', 'actor': 'Scott Fan'}, {'reaction': 'â\\x9d¤', 'actor': 'Tiffany Suryakusuma'}, {'reaction': 'â\\x9d¤', 'actor': 'Chris Huang'}, {'reaction': 'â\\x9d¤', 'actor': 'Alan Wong'}, {'reaction': 'â\\x9d¤', 'actor': 'Ryan Chun'}, {'reaction': 'â\\x9d¤', 'actor': 'Shannon Chu'}, {'reaction': 'â\\x9d¤', 'actor': 'Angela Suguro'}, {'reaction': 'â\\x9d¤', 'actor': 'Scott Fan'}, {'reaction': 'â\\x9d¤', 'actor': 'Tiffany Suryakusuma'}, {'reaction': 'â\\x9d¤', 'actor': 'Chris Huang'}], 'datetime': '11-30-2022 04:57:32', 'w_date': '11-30-2022', 'timestamp': '04:57:32'}]\n"
     ]
    }
   ],
   "source": [
    "print(pics)"
   ]
  },
  {
   "cell_type": "code",
   "execution_count": 9,
   "id": "0c2ca4e4",
   "metadata": {},
   "outputs": [],
   "source": [
    "# writes to csv file\n",
    "data_file = open('workout_data.csv', 'w') \n",
    "\n",
    "csv_writer = csv.writer(data_file) \n",
    "\n",
    "count = 0\n",
    "\n",
    "for workout in pics:\n",
    "    if count == 0:\n",
    "\n",
    "            header = workout.keys()\n",
    "            csv_writer.writerow(header)\n",
    "            count += 1\n",
    "        \n",
    "    csv_writer.writerow(workout.values())\n",
    "data_file.close()"
   ]
  },
  {
   "cell_type": "code",
   "execution_count": 10,
   "id": "de6bcb69",
   "metadata": {},
   "outputs": [],
   "source": [
    "# converting csv file to panda dataframe\n",
    "df = pd.read_csv('workout_data.csv', parse_dates=['datetime','w_date'])\n",
    "\n",
    "# delete unnecessary columns\n",
    "df = df.drop(['photos', 'reactions', 'timestamp_ms'], axis=1)\n",
    "\n",
    "# starting date of workout\n",
    "first_date = '11/13/2022'\n",
    "df['startdate'] = pd.to_datetime(first_date, format=\"%m/%d/%Y\")\n",
    "\n",
    "# calculate week # based on start date\n",
    "df['weeknumber'] =  (((df['w_date'] - df['startdate']).dt.days)/7)+1\n",
    "df['weeknumber'] =  df['weeknumber'].astype(int)\n",
    "\n",
    "# audit timestamp\n",
    "upl_date = datetime.datetime.now()\n",
    "df['upload_date'] = pd.to_datetime(upl_date)\n",
    "\n",
    "# weekly goal\n",
    "df.loc[df['weeknumber'] == 1, 'week_goal'] = 2\n",
    "df.loc[df['weeknumber'] > 1, 'week_goal'] = 3\n",
    "\n",
    "\n",
    "df['workout_count'] = 1\n",
    "\n",
    "df=df.sort_values(by='datetime')\n"
   ]
  },
  {
   "cell_type": "code",
   "execution_count": 11,
   "id": "e0cb7810",
   "metadata": {},
   "outputs": [
    {
     "name": "stdout",
     "output_type": "stream",
     "text": [
      "  sender_name            datetime     w_date timestamp  startdate  weeknumber  \\\n",
      "1   June Kang 2022-11-30 04:57:32 2022-11-30  04:57:32 2022-11-13           3   \n",
      "0   Alan Wong 2022-11-30 10:13:30 2022-11-30  10:13:30 2022-11-13           3   \n",
      "\n",
      "                 upload_date  week_goal  workout_count  \n",
      "1 2022-11-30 14:43:32.948296        3.0              1  \n",
      "0 2022-11-30 14:43:32.948296        3.0              1  \n"
     ]
    }
   ],
   "source": [
    "print(df)"
   ]
  },
  {
   "cell_type": "code",
   "execution_count": 17,
   "id": "2647a0d2",
   "metadata": {},
   "outputs": [],
   "source": [
    "# time-series bins\n",
    "df.loc[df['timestamp'].between('00:00:00','08:00:00'), 'time_type'] = 'early morning'\n",
    "df.loc[df['timestamp'].between('08:00:00','12:00:00'), 'time_type'] = 'late morning'\n",
    "df.loc[df['timestamp'].between('12:00:00','17:00:00'), 'time_type'] = 'afternoon'\n",
    "df.loc[df['timestamp'].between('17:00:00','11:59:59'), 'time_type'] = 'evening'"
   ]
  },
  {
   "cell_type": "code",
   "execution_count": 18,
   "id": "2a9387a3",
   "metadata": {},
   "outputs": [
    {
     "name": "stdout",
     "output_type": "stream",
     "text": [
      "  sender_name            datetime     w_date timestamp  startdate  weeknumber  \\\n",
      "1   June Kang 2022-11-30 04:57:32 2022-11-30  04:57:32 2022-11-13           3   \n",
      "0   Alan Wong 2022-11-30 10:13:30 2022-11-30  10:13:30 2022-11-13           3   \n",
      "\n",
      "                 upload_date  week_goal  workout_count      time_type  \n",
      "1 2022-11-30 14:43:32.948296        3.0              1  early morning  \n",
      "0 2022-11-30 14:43:32.948296        3.0              1   late morning  \n"
     ]
    }
   ],
   "source": [
    "print(df)"
   ]
  },
  {
   "cell_type": "code",
   "execution_count": null,
   "id": "a2450cae",
   "metadata": {},
   "outputs": [],
   "source": []
  }
 ],
 "metadata": {
  "kernelspec": {
   "display_name": "Python 3 (ipykernel)",
   "language": "python",
   "name": "python3"
  },
  "language_info": {
   "codemirror_mode": {
    "name": "ipython",
    "version": 3
   },
   "file_extension": ".py",
   "mimetype": "text/x-python",
   "name": "python",
   "nbconvert_exporter": "python",
   "pygments_lexer": "ipython3",
   "version": "3.9.13"
  }
 },
 "nbformat": 4,
 "nbformat_minor": 5
}
