{
 "cells": [
  {
   "cell_type": "code",
   "execution_count": 1,
   "id": "80a70792",
   "metadata": {},
   "outputs": [],
   "source": [
    "import json\n",
    "import csv\n",
    "import datetime\n",
    "import pandas as pd\n",
    "import arrow\n",
    "from gspread_dataframe import get_as_dataframe, set_with_dataframe\n",
    "import gspread"
   ]
  },
  {
   "cell_type": "code",
   "execution_count": 5,
   "id": "4de67ef5",
   "metadata": {},
   "outputs": [],
   "source": [
    "with open('message_1.json') as json_file:\n",
    "    data = json.load(json_file)\n",
    "\n",
    "logdata = data[\"messages\"]\n",
    "rem_list = ['type']\n",
    "\n",
    "pics = []\n",
    "for workout in logdata:\n",
    "    if 'photos' in workout.keys():\n",
    "        ts = workout.get('timestamp_ms')\n",
    "        dt = arrow.Arrow.fromtimestamp(ts)\n",
    "        # Asumi's default timezone for Denver\n",
    "        if 'Angela Suguro' in workout.get('sender_name'):\n",
    "            workout['datetime'] = dt.to('US/Central').format('MM-DD-YYYY HH:mm:ss')\n",
    "            workout['w_date'] = dt.to('US/Central').format('MM-DD-YYYY')\n",
    "            workout['timestamp'] = dt.to('US/Central').format('HH:mm:ss')\n",
    "        # Tina's default timezone for NY\n",
    "        elif 'Tina Peng' in workout.get('sender_name'):\n",
    "            workout['datetime'] = dt.to('US/Eastern').format('MM-DD-YYYY HH:mm:ss')\n",
    "            workout['w_date'] = dt.to('US/Eastern').format('MM-DD-YYYY')\n",
    "            workout['timestamp'] = dt.to('US/Eastern').format('HH:mm:ss')\n",
    "        else:\n",
    "            workout['datetime'] = dt.to('US/Pacific').format('MM-DD-YYYY HH:mm:ss')\n",
    "            workout['w_date'] = dt.to('US/Pacific').format('MM-DD-YYYY')\n",
    "            workout['timestamp'] = dt.to('US/Pacific').format('HH:mm:ss')\n",
    "        pics.append(workout)\n",
    "        [workout.pop(key) for key in rem_list]"
   ]
  },
  {
   "cell_type": "code",
   "execution_count": 6,
   "id": "e70839db",
   "metadata": {},
   "outputs": [
    {
     "name": "stdout",
     "output_type": "stream",
     "text": [
      "[{'sender_name': 'Alan Wong', 'timestamp_ms': 1669832010029, 'photos': [{'uri': 'messages/inbox/holiday2223fitnesschallenge_ti2qhwa1xa/photos/317056344_1522466141570180_5342699473999875700_n_1522466134903514.jpg', 'creation_timestamp': 1669832008}], 'reactions': [{'reaction': 'â\\x9d¤', 'actor': 'Scott Fan'}, {'reaction': 'â\\x9d¤', 'actor': 'Chris Huang'}, {'reaction': 'â\\x9d¤', 'actor': 'Benson Trenh'}, {'reaction': 'â\\x9d¤', 'actor': 'June Kang'}, {'reaction': 'â\\x9d¤', 'actor': 'Shannon Chu'}, {'reaction': 'â\\x9d¤', 'actor': 'Scott Fan'}, {'reaction': 'â\\x9d¤', 'actor': 'Chris Huang'}, {'reaction': 'â\\x9d¤', 'actor': 'Benson Trenh'}, {'reaction': 'â\\x9d¤', 'actor': 'June Kang'}, {'reaction': 'â\\x9d¤', 'actor': 'Shannon Chu'}], 'datetime': '11-30-2022 10:13:30', 'w_date': '11-30-2022'}, {'sender_name': 'June Kang', 'timestamp_ms': 1669813052578, 'photos': [{'uri': 'messages/inbox/holiday2223fitnesschallenge_ti2qhwa1xa/photos/317485790_524010092984329_86791519874502910_n_524010089650996.jpg', 'creation_timestamp': 1669813048}], 'reactions': [{'reaction': 'â\\x9d¤', 'actor': 'Alan Wong'}, {'reaction': 'â\\x9d¤', 'actor': 'Ryan Chun'}, {'reaction': 'â\\x9d¤', 'actor': 'Shannon Chu'}, {'reaction': 'â\\x9d¤', 'actor': 'Angela Suguro'}, {'reaction': 'â\\x9d¤', 'actor': 'Scott Fan'}, {'reaction': 'â\\x9d¤', 'actor': 'Tiffany Suryakusuma'}, {'reaction': 'â\\x9d¤', 'actor': 'Chris Huang'}, {'reaction': 'â\\x9d¤', 'actor': 'Alan Wong'}, {'reaction': 'â\\x9d¤', 'actor': 'Ryan Chun'}, {'reaction': 'â\\x9d¤', 'actor': 'Shannon Chu'}, {'reaction': 'â\\x9d¤', 'actor': 'Angela Suguro'}, {'reaction': 'â\\x9d¤', 'actor': 'Scott Fan'}, {'reaction': 'â\\x9d¤', 'actor': 'Tiffany Suryakusuma'}, {'reaction': 'â\\x9d¤', 'actor': 'Chris Huang'}], 'datetime': '11-30-2022 04:57:32', 'w_date': '11-30-2022'}]\n"
     ]
    }
   ],
   "source": [
    "print(pics)"
   ]
  },
  {
   "cell_type": "code",
   "execution_count": 41,
   "id": "b9bbb5b4",
   "metadata": {},
   "outputs": [],
   "source": [
    "# writes to csv file\n",
    "data_file = open('workout_data.csv', 'w') \n",
    "\n",
    "csv_writer = csv.writer(data_file) \n",
    "\n",
    "count = 0\n",
    "\n",
    "for workout in pics:\n",
    "    if count == 0:\n",
    "\n",
    "            header = workout.keys()\n",
    "            csv_writer.writerow(header)\n",
    "            count += 1\n",
    "        \n",
    "    csv_writer.writerow(workout.values())\n",
    "data_file.close()"
   ]
  },
  {
   "cell_type": "code",
   "execution_count": 5,
   "id": "7591410d",
   "metadata": {},
   "outputs": [],
   "source": [
    "# converting csv file to panda dataframe\n",
    "df = pd.read_csv('workout_data.csv', parse_dates=['datetime','w_date'])\n",
    "\n",
    "# delete unnecessary columns\n",
    "df = df.drop(['photos', 'reactions', 'timestamp_ms'], axis=1)\n",
    "\n",
    "# starting date of workout\n",
    "first_date = '11/13/2022'\n",
    "df['startdate'] = pd.to_datetime(first_date, format=\"%m/%d/%Y\")\n",
    "\n",
    "# calculate week # based on start date\n",
    "df['weeknumber'] =  (((df['w_date'] - df['startdate']).dt.days)/7)+1\n",
    "df['weeknumber'] =  df['weeknumber'].astype(int)\n",
    "\n",
    "# audit timestamp\n",
    "upl_date = datetime.datetime.now()\n",
    "df['upload_date'] = pd.to_datetime(upl_date)\n",
    "\n",
    "# weekly goal\n",
    "df.loc[df['weeknumber'] == 1, 'week_goal'] = 2\n",
    "df.loc[df['weeknumber'] > 1, 'week_goal'] = 3\n",
    "\n",
    "df.loc[df['']]\n",
    "\n",
    "df['workout_count'] = 1\n",
    "\n",
    "df=df.sort_values(by='datetime')\n"
   ]
  },
  {
   "cell_type": "code",
   "execution_count": 6,
   "id": "28591e49",
   "metadata": {},
   "outputs": [
    {
     "name": "stdout",
     "output_type": "stream",
     "text": [
      "  sender_name            datetime     w_date  startdate  weeknumber  \\\n",
      "1   June Kang 2022-11-30 04:57:32 2022-11-30 2022-11-13           3   \n",
      "0   Alan Wong 2022-11-30 10:13:30 2022-11-30 2022-11-13           3   \n",
      "\n",
      "                 upload_date  week_goal  workout_count  \n",
      "1 2022-11-30 11:12:20.052145        3.0              1  \n",
      "0 2022-11-30 11:12:20.052145        3.0              1  \n"
     ]
    }
   ],
   "source": [
    "print(df)"
   ]
  },
  {
   "cell_type": "code",
   "execution_count": 16,
   "id": "29a3cf09",
   "metadata": {},
   "outputs": [
    {
     "data": {
      "text/plain": [
       "pandas.core.frame.DataFrame"
      ]
     },
     "execution_count": 16,
     "metadata": {},
     "output_type": "execute_result"
    }
   ],
   "source": [
    "type(df[[\"datetime\"]])"
   ]
  },
  {
   "cell_type": "code",
   "execution_count": 19,
   "id": "ddf25042",
   "metadata": {},
   "outputs": [
    {
     "ename": "TypeError",
     "evalue": "index is not a valid DatetimeIndex or PeriodIndex",
     "output_type": "error",
     "traceback": [
      "\u001b[0;31m---------------------------------------------------------------------------\u001b[0m",
      "\u001b[0;31mTypeError\u001b[0m                                 Traceback (most recent call last)",
      "\u001b[0;32m/var/folders/x2/xdzd7_2x0sj_bht_s5w4kggc0000gp/T/ipykernel_65618/4034227568.py\u001b[0m in \u001b[0;36m<module>\u001b[0;34m\u001b[0m\n\u001b[0;32m----> 1\u001b[0;31m \u001b[0mtz_aware\u001b[0m \u001b[0;34m=\u001b[0m \u001b[0mdf\u001b[0m\u001b[0;34m[\u001b[0m\u001b[0;34m[\u001b[0m\u001b[0;34m\"datetime\"\u001b[0m\u001b[0;34m]\u001b[0m\u001b[0;34m]\u001b[0m\u001b[0;34m.\u001b[0m\u001b[0mtz_localize\u001b[0m\u001b[0;34m(\u001b[0m\u001b[0mtz\u001b[0m\u001b[0;34m=\u001b[0m\u001b[0;34m'US/Pacific'\u001b[0m\u001b[0;34m)\u001b[0m\u001b[0;34m\u001b[0m\u001b[0;34m\u001b[0m\u001b[0m\n\u001b[0m",
      "\u001b[0;32m~/opt/anaconda3/lib/python3.9/site-packages/pandas/core/generic.py\u001b[0m in \u001b[0;36mtz_localize\u001b[0;34m(self, tz, axis, level, copy, ambiguous, nonexistent)\u001b[0m\n\u001b[1;32m   9972\u001b[0m             \u001b[0;32mif\u001b[0m \u001b[0mlevel\u001b[0m \u001b[0;32mnot\u001b[0m \u001b[0;32min\u001b[0m \u001b[0;34m(\u001b[0m\u001b[0;32mNone\u001b[0m\u001b[0;34m,\u001b[0m \u001b[0;36m0\u001b[0m\u001b[0;34m,\u001b[0m \u001b[0max\u001b[0m\u001b[0;34m.\u001b[0m\u001b[0mname\u001b[0m\u001b[0;34m)\u001b[0m\u001b[0;34m:\u001b[0m\u001b[0;34m\u001b[0m\u001b[0;34m\u001b[0m\u001b[0m\n\u001b[1;32m   9973\u001b[0m                 \u001b[0;32mraise\u001b[0m \u001b[0mValueError\u001b[0m\u001b[0;34m(\u001b[0m\u001b[0;34mf\"The level {level} is not valid\"\u001b[0m\u001b[0;34m)\u001b[0m\u001b[0;34m\u001b[0m\u001b[0;34m\u001b[0m\u001b[0m\n\u001b[0;32m-> 9974\u001b[0;31m             \u001b[0max\u001b[0m \u001b[0;34m=\u001b[0m \u001b[0m_tz_localize\u001b[0m\u001b[0;34m(\u001b[0m\u001b[0max\u001b[0m\u001b[0;34m,\u001b[0m \u001b[0mtz\u001b[0m\u001b[0;34m,\u001b[0m \u001b[0mambiguous\u001b[0m\u001b[0;34m,\u001b[0m \u001b[0mnonexistent\u001b[0m\u001b[0;34m)\u001b[0m\u001b[0;34m\u001b[0m\u001b[0;34m\u001b[0m\u001b[0m\n\u001b[0m\u001b[1;32m   9975\u001b[0m \u001b[0;34m\u001b[0m\u001b[0m\n\u001b[1;32m   9976\u001b[0m         \u001b[0mresult\u001b[0m \u001b[0;34m=\u001b[0m \u001b[0mself\u001b[0m\u001b[0;34m.\u001b[0m\u001b[0mcopy\u001b[0m\u001b[0;34m(\u001b[0m\u001b[0mdeep\u001b[0m\u001b[0;34m=\u001b[0m\u001b[0mcopy\u001b[0m\u001b[0;34m)\u001b[0m\u001b[0;34m\u001b[0m\u001b[0;34m\u001b[0m\u001b[0m\n",
      "\u001b[0;32m~/opt/anaconda3/lib/python3.9/site-packages/pandas/core/generic.py\u001b[0m in \u001b[0;36m_tz_localize\u001b[0;34m(ax, tz, ambiguous, nonexistent)\u001b[0m\n\u001b[1;32m   9954\u001b[0m                 \u001b[0;32mif\u001b[0m \u001b[0mlen\u001b[0m\u001b[0;34m(\u001b[0m\u001b[0max\u001b[0m\u001b[0;34m)\u001b[0m \u001b[0;34m>\u001b[0m \u001b[0;36m0\u001b[0m\u001b[0;34m:\u001b[0m\u001b[0;34m\u001b[0m\u001b[0;34m\u001b[0m\u001b[0m\n\u001b[1;32m   9955\u001b[0m                     \u001b[0max_name\u001b[0m \u001b[0;34m=\u001b[0m \u001b[0mself\u001b[0m\u001b[0;34m.\u001b[0m\u001b[0m_get_axis_name\u001b[0m\u001b[0;34m(\u001b[0m\u001b[0maxis\u001b[0m\u001b[0;34m)\u001b[0m\u001b[0;34m\u001b[0m\u001b[0;34m\u001b[0m\u001b[0m\n\u001b[0;32m-> 9956\u001b[0;31m                     raise TypeError(\n\u001b[0m\u001b[1;32m   9957\u001b[0m                         \u001b[0;34mf\"{ax_name} is not a valid DatetimeIndex or PeriodIndex\"\u001b[0m\u001b[0;34m\u001b[0m\u001b[0;34m\u001b[0m\u001b[0m\n\u001b[1;32m   9958\u001b[0m                     )\n",
      "\u001b[0;31mTypeError\u001b[0m: index is not a valid DatetimeIndex or PeriodIndex"
     ]
    }
   ],
   "source": [
    "df.loc[df['sender_name'] == 'Angela Suguro', ]"
   ]
  },
  {
   "cell_type": "code",
   "execution_count": null,
   "id": "8d1bcdb0",
   "metadata": {},
   "outputs": [],
   "source": []
  }
 ],
 "metadata": {
  "kernelspec": {
   "display_name": "Python 3 (ipykernel)",
   "language": "python",
   "name": "python3"
  },
  "language_info": {
   "codemirror_mode": {
    "name": "ipython",
    "version": 3
   },
   "file_extension": ".py",
   "mimetype": "text/x-python",
   "name": "python",
   "nbconvert_exporter": "python",
   "pygments_lexer": "ipython3",
   "version": "3.9.13"
  }
 },
 "nbformat": 4,
 "nbformat_minor": 5
}
